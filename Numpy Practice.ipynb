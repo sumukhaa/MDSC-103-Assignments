{
 "cells": [
  {
   "cell_type": "markdown",
   "id": "98f0f559",
   "metadata": {},
   "source": [
    "**Importing numpy:**"
   ]
  },
  {
   "cell_type": "code",
   "execution_count": 5,
   "id": "c2953721",
   "metadata": {},
   "outputs": [],
   "source": [
    "import numpy as np"
   ]
  },
  {
   "cell_type": "markdown",
   "id": "5fda5389",
   "metadata": {},
   "source": [
    "**Creating a numpy array:**"
   ]
  },
  {
   "cell_type": "code",
   "execution_count": 6,
   "id": "1b2617ad",
   "metadata": {
    "scrolled": true
   },
   "outputs": [
    {
     "data": {
      "text/plain": [
       "array([100, 200, 250, 300])"
      ]
     },
     "execution_count": 6,
     "metadata": {},
     "output_type": "execute_result"
    }
   ],
   "source": [
    "a = np.array([100,200,250,300])\n",
    "a"
   ]
  },
  {
   "cell_type": "markdown",
   "id": "7e37200c",
   "metadata": {},
   "source": [
    "**Creating a 2-d array:**\n",
    "\n",
    "*Attributes are*\n",
    "**#shape**\n",
    "**#ndim**\n",
    "__#size__"
   ]
  },
  {
   "cell_type": "markdown",
   "id": "7a25fb02",
   "metadata": {},
   "source": [
    "**Creating an array**"
   ]
  },
  {
   "cell_type": "code",
   "execution_count": 7,
   "id": "538f6c3d",
   "metadata": {},
   "outputs": [],
   "source": [
    "b = np.array([[1,2,5],[3,4,6]])"
   ]
  },
  {
   "cell_type": "markdown",
   "id": "55fe5e8e",
   "metadata": {},
   "source": [
    "**Printing the array**"
   ]
  },
  {
   "cell_type": "code",
   "execution_count": 8,
   "id": "7345c163",
   "metadata": {},
   "outputs": [
    {
     "data": {
      "text/plain": [
       "array([[1, 2, 5],\n",
       "       [3, 4, 6]])"
      ]
     },
     "execution_count": 8,
     "metadata": {},
     "output_type": "execute_result"
    }
   ],
   "source": [
    "b"
   ]
  },
  {
   "cell_type": "markdown",
   "id": "620ffa78",
   "metadata": {},
   "source": [
    "**Shape of the array**"
   ]
  },
  {
   "cell_type": "code",
   "execution_count": 9,
   "id": "2dd6c951",
   "metadata": {},
   "outputs": [
    {
     "data": {
      "text/plain": [
       "(2, 3)"
      ]
     },
     "execution_count": 9,
     "metadata": {},
     "output_type": "execute_result"
    }
   ],
   "source": [
    "b.shape"
   ]
  },
  {
   "cell_type": "markdown",
   "id": "62f59790",
   "metadata": {},
   "source": [
    "**Size of the array (No. of elements)**"
   ]
  },
  {
   "cell_type": "code",
   "execution_count": 10,
   "id": "c2ebbb5d",
   "metadata": {},
   "outputs": [
    {
     "data": {
      "text/plain": [
       "6"
      ]
     },
     "execution_count": 10,
     "metadata": {},
     "output_type": "execute_result"
    }
   ],
   "source": [
    "b.size"
   ]
  },
  {
   "cell_type": "markdown",
   "id": "8b94c8a8",
   "metadata": {},
   "source": [
    "**Dimension of the array**"
   ]
  },
  {
   "cell_type": "code",
   "execution_count": 11,
   "id": "d52e72bd",
   "metadata": {},
   "outputs": [
    {
     "data": {
      "text/plain": [
       "2"
      ]
     },
     "execution_count": 11,
     "metadata": {},
     "output_type": "execute_result"
    }
   ],
   "source": [
    "b.ndim"
   ]
  },
  {
   "cell_type": "markdown",
   "id": "eb00d9ac",
   "metadata": {},
   "source": [
    "**Indexing an array**"
   ]
  },
  {
   "cell_type": "code",
   "execution_count": 12,
   "id": "9f755898",
   "metadata": {},
   "outputs": [
    {
     "data": {
      "text/plain": [
       "2"
      ]
     },
     "execution_count": 12,
     "metadata": {},
     "output_type": "execute_result"
    }
   ],
   "source": [
    "b[(0,1)]"
   ]
  },
  {
   "cell_type": "markdown",
   "id": "c4d75820",
   "metadata": {},
   "source": [
    "**Creating a 3-d array:**"
   ]
  },
  {
   "cell_type": "code",
   "execution_count": 13,
   "id": "e1ad4709",
   "metadata": {},
   "outputs": [],
   "source": [
    "c = np.array([[[1,2,3,4],[5,6,7,8],[9,10,11,12]],[[13,14,15,16],[17,18,19,20],[21,22,23,24]]])"
   ]
  },
  {
   "cell_type": "code",
   "execution_count": 14,
   "id": "b602306c",
   "metadata": {},
   "outputs": [
    {
     "data": {
      "text/plain": [
       "array([[[ 1,  2,  3,  4],\n",
       "        [ 5,  6,  7,  8],\n",
       "        [ 9, 10, 11, 12]],\n",
       "\n",
       "       [[13, 14, 15, 16],\n",
       "        [17, 18, 19, 20],\n",
       "        [21, 22, 23, 24]]])"
      ]
     },
     "execution_count": 14,
     "metadata": {},
     "output_type": "execute_result"
    }
   ],
   "source": [
    "c"
   ]
  },
  {
   "cell_type": "markdown",
   "id": "d7f85a90",
   "metadata": {},
   "source": [
    "**There are 2 matrices of order 3*4**"
   ]
  },
  {
   "cell_type": "code",
   "execution_count": 15,
   "id": "3181f64d",
   "metadata": {},
   "outputs": [
    {
     "data": {
      "text/plain": [
       "(2, 3, 4)"
      ]
     },
     "execution_count": 15,
     "metadata": {},
     "output_type": "execute_result"
    }
   ],
   "source": [
    "c.shape"
   ]
  },
  {
   "cell_type": "code",
   "execution_count": 16,
   "id": "d5d4a67d",
   "metadata": {},
   "outputs": [
    {
     "data": {
      "text/plain": [
       "24"
      ]
     },
     "execution_count": 16,
     "metadata": {},
     "output_type": "execute_result"
    }
   ],
   "source": [
    "c.size"
   ]
  },
  {
   "cell_type": "code",
   "execution_count": 17,
   "id": "3613d417",
   "metadata": {},
   "outputs": [
    {
     "data": {
      "text/plain": [
       "3"
      ]
     },
     "execution_count": 17,
     "metadata": {},
     "output_type": "execute_result"
    }
   ],
   "source": [
    "c.ndim"
   ]
  },
  {
   "cell_type": "markdown",
   "id": "dbffb0f6",
   "metadata": {},
   "source": [
    "**Creating an array of dim 2 * 3 * 4 and filling all elements as zeros**"
   ]
  },
  {
   "cell_type": "code",
   "execution_count": 18,
   "id": "39a7a570",
   "metadata": {},
   "outputs": [
    {
     "data": {
      "text/plain": [
       "array([[[0., 0., 0.],\n",
       "        [0., 0., 0.]],\n",
       "\n",
       "       [[0., 0., 0.],\n",
       "        [0., 0., 0.]],\n",
       "\n",
       "       [[0., 0., 0.],\n",
       "        [0., 0., 0.]],\n",
       "\n",
       "       [[0., 0., 0.],\n",
       "        [0., 0., 0.]]])"
      ]
     },
     "execution_count": 18,
     "metadata": {},
     "output_type": "execute_result"
    }
   ],
   "source": [
    "d = np.zeros((4,2,3)) #deault type is float\n",
    "d"
   ]
  },
  {
   "cell_type": "markdown",
   "id": "7fdf52ee",
   "metadata": {},
   "source": [
    "**Creating an array and filling the array with random values**"
   ]
  },
  {
   "cell_type": "code",
   "execution_count": 19,
   "id": "fea49894",
   "metadata": {},
   "outputs": [
    {
     "data": {
      "text/plain": [
       "array([[         0,          0],\n",
       "       [1040185904,        417],\n",
       "       [1040185200,        417],\n",
       "       [1040186352,        417]])"
      ]
     },
     "execution_count": 19,
     "metadata": {},
     "output_type": "execute_result"
    }
   ],
   "source": [
    "e = np.empty((4,2), dtype=int)\n",
    "e"
   ]
  },
  {
   "cell_type": "markdown",
   "id": "f0f41860",
   "metadata": {},
   "source": [
    "**Creating a matrix f with dimensions of e and filling it with all 1s**"
   ]
  },
  {
   "cell_type": "code",
   "execution_count": 20,
   "id": "b708a327",
   "metadata": {},
   "outputs": [
    {
     "data": {
      "text/plain": [
       "array([[1, 1],\n",
       "       [1, 1],\n",
       "       [1, 1],\n",
       "       [1, 1]])"
      ]
     },
     "execution_count": 20,
     "metadata": {},
     "output_type": "execute_result"
    }
   ],
   "source": [
    "f = np.ones_like(e)\n",
    "f"
   ]
  },
  {
   "cell_type": "markdown",
   "id": "3e888573",
   "metadata": {},
   "source": [
    "**Range function in python is like arange in numpy (but parameters can be float)**"
   ]
  },
  {
   "cell_type": "code",
   "execution_count": 21,
   "id": "1695a460",
   "metadata": {},
   "outputs": [
    {
     "data": {
      "text/plain": [
       "array([2. , 2.5, 3. , 3.5, 4. , 4.5, 5. , 5.5, 6. , 6.5, 7. , 7.5])"
      ]
     },
     "execution_count": 21,
     "metadata": {},
     "output_type": "execute_result"
    }
   ],
   "source": [
    "np.arange(2,8,0.5)"
   ]
  },
  {
   "cell_type": "markdown",
   "id": "5a04c2fc",
   "metadata": {},
   "source": [
    "**Creating an array with 8 evenly spaced values in the given range**"
   ]
  },
  {
   "cell_type": "code",
   "execution_count": 22,
   "id": "e806497d",
   "metadata": {},
   "outputs": [
    {
     "data": {
      "text/plain": [
       "array([[ 1.        ,  3.71428571],\n",
       "       [ 6.42857143,  9.14285714],\n",
       "       [11.85714286, 14.57142857],\n",
       "       [17.28571429, 20.        ]])"
      ]
     },
     "execution_count": 22,
     "metadata": {},
     "output_type": "execute_result"
    }
   ],
   "source": [
    "np.linspace(1,20,8).reshape(4,2)"
   ]
  },
  {
   "cell_type": "markdown",
   "id": "25c608cf",
   "metadata": {},
   "source": [
    "**Creating an array with 8 evenly spaced values in the given range and returning the difference between 2 elements**"
   ]
  },
  {
   "cell_type": "code",
   "execution_count": 23,
   "id": "b3ec521b",
   "metadata": {},
   "outputs": [
    {
     "data": {
      "text/plain": [
       "(array([ 1.        ,  3.71428571,  6.42857143,  9.14285714, 11.85714286,\n",
       "        14.57142857, 17.28571429, 20.        ]),\n",
       " 2.7142857142857144)"
      ]
     },
     "execution_count": 23,
     "metadata": {},
     "output_type": "execute_result"
    }
   ],
   "source": [
    "np.linspace(1,20,8, retstep=True)"
   ]
  },
  {
   "cell_type": "markdown",
   "id": "ac5d44f9",
   "metadata": {},
   "source": [
    "**Same as previous, but excluding the end element**"
   ]
  },
  {
   "cell_type": "code",
   "execution_count": 24,
   "id": "5c92c987",
   "metadata": {},
   "outputs": [
    {
     "data": {
      "text/plain": [
       "array([ 1.   ,  3.375,  5.75 ,  8.125, 10.5  , 12.875, 15.25 , 17.625])"
      ]
     },
     "execution_count": 24,
     "metadata": {},
     "output_type": "execute_result"
    }
   ],
   "source": [
    "np.linspace(1,20,8, endpoint=False)"
   ]
  },
  {
   "cell_type": "markdown",
   "id": "7c65f017",
   "metadata": {},
   "source": [
    "**Defining a function**"
   ]
  },
  {
   "cell_type": "code",
   "execution_count": 27,
   "id": "cac58350",
   "metadata": {},
   "outputs": [],
   "source": [
    "def func(i,j):\n",
    "    return i+j"
   ]
  },
  {
   "cell_type": "markdown",
   "id": "8b4d56ad",
   "metadata": {},
   "source": [
    "**Creating an array using fromfunction method**"
   ]
  },
  {
   "cell_type": "code",
   "execution_count": 28,
   "id": "1841b3f1",
   "metadata": {},
   "outputs": [
    {
     "data": {
      "text/plain": [
       "array([[0., 1., 2.],\n",
       "       [1., 2., 3.],\n",
       "       [2., 3., 4.],\n",
       "       [3., 4., 5.]])"
      ]
     },
     "execution_count": 28,
     "metadata": {},
     "output_type": "execute_result"
    }
   ],
   "source": [
    "np.fromfunction(func,(4,3))"
   ]
  },
  {
   "cell_type": "markdown",
   "id": "df77dcae",
   "metadata": {},
   "source": []
  }
 ],
 "metadata": {
  "kernelspec": {
   "display_name": "Python 3 (ipykernel)",
   "language": "python",
   "name": "python3"
  },
  "language_info": {
   "codemirror_mode": {
    "name": "ipython",
    "version": 3
   },
   "file_extension": ".py",
   "mimetype": "text/x-python",
   "name": "python",
   "nbconvert_exporter": "python",
   "pygments_lexer": "ipython3",
   "version": "3.11.1"
  }
 },
 "nbformat": 4,
 "nbformat_minor": 5
}
